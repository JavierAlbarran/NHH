{
  "nbformat": 4,
  "nbformat_minor": 0,
  "metadata": {
    "colab": {
      "provenance": [],
      "authorship_tag": "ABX9TyOHNhGkqV8MtmOvcBR9ZIbM",
      "include_colab_link": true
    },
    "kernelspec": {
      "name": "python3",
      "display_name": "Python 3"
    },
    "language_info": {
      "name": "python"
    }
  },
  "cells": [
    {
      "cell_type": "markdown",
      "metadata": {
        "id": "view-in-github",
        "colab_type": "text"
      },
      "source": [
        "<a href=\"https://colab.research.google.com/github/JavierAlbarran/NHH/blob/main/10calif.ipynb\" target=\"_parent\"><img src=\"https://colab.research.google.com/assets/colab-badge.svg\" alt=\"Open In Colab\"/></a>"
      ]
    },
    {
      "cell_type": "code",
      "source": [
        "def leer():\n",
        "    c = []\n",
        "    print(\"ingrese 10 calificacione\")\n",
        "    for i in range(10):\n",
        "        n = float(input(f\"Calificación {i + 1}: \"))\n",
        "        c.append(n)\n",
        "    return c\n",
        "\n",
        "def ips(c):\n",
        "    print(\"\\n superiores a 8.5\")\n",
        "    for n in c:\n",
        "        if n > 8.5:\n",
        "            print(n)\n",
        "\n",
        "c = leer()\n",
        "ips(c)"
      ],
      "metadata": {
        "colab": {
          "base_uri": "https://localhost:8080/"
        },
        "id": "iAk23vQyNmdb",
        "outputId": "536e30f9-2538-455e-8d5e-9acf844f2557"
      },
      "execution_count": 21,
      "outputs": [
        {
          "output_type": "stream",
          "name": "stdout",
          "text": [
            "ingrese 10 calificacione\n",
            "Calificación 1: 10\n",
            "Calificación 2: 9\n",
            "Calificación 3: 10\n",
            "Calificación 4: 5\n",
            "Calificación 5: 4\n",
            "Calificación 6: 5\n",
            "Calificación 7: 9\n",
            "Calificación 8: 7\n",
            "Calificación 9: 8\n",
            "Calificación 10: 10\n",
            "\n",
            " superiores a 8.5\n",
            "10.0\n",
            "9.0\n",
            "10.0\n",
            "9.0\n",
            "10.0\n"
          ]
        }
      ]
    }
  ]
}